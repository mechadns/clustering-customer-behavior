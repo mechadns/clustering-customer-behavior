{
 "cells": [
  {
   "cell_type": "markdown",
   "id": "f8102268",
   "metadata": {},
   "source": [
    "# 1. Data Collection"
   ]
  },
  {
   "cell_type": "markdown",
   "id": "8019cd68",
   "metadata": {},
   "source": [
    "Extracting mall customer zip file from API download"
   ]
  },
  {
   "cell_type": "code",
   "execution_count": 7,
   "id": "4f6258a6",
   "metadata": {},
   "outputs": [],
   "source": [
    "import zipfile\n",
    "\n",
    "with zipfile.ZipFile(\"mall-customers.zip\", \"r\") as zip_ref:\n",
    "    zip_ref.extractall(\"mall_customers_data\")\n"
   ]
  },
  {
   "cell_type": "markdown",
   "id": "86b1b901",
   "metadata": {},
   "source": [
    "Loading the data into pandas"
   ]
  },
  {
   "cell_type": "code",
   "execution_count": 9,
   "id": "dc0f909a",
   "metadata": {},
   "outputs": [
    {
     "name": "stdout",
     "output_type": "stream",
     "text": [
      "   CustomerID   Genre  Age  Annual Income (k$)  Spending Score (1-100)\n",
      "0           1    Male   19                  15                      39\n",
      "1           2    Male   21                  15                      81\n",
      "2           3  Female   20                  16                       6\n",
      "3           4  Female   23                  16                      77\n",
      "4           5  Female   31                  17                      40\n"
     ]
    }
   ],
   "source": [
    "import pandas as pd\n",
    "\n",
    "# Load the dataset\n",
    "data = pd.read_csv(\"mall_customers_data/Mall_Customers.csv\")\n",
    "\n",
    "# Display the first few rows of the dataset\n",
    "print(data.head())\n"
   ]
  },
  {
   "cell_type": "markdown",
   "id": "ac89f653",
   "metadata": {},
   "source": [
    "# 2. Data Preprocessing\n",
    "Preprocess and clean data to handles missing values, nulls, ouliers and categorical variables."
   ]
  }
 ],
 "metadata": {
  "kernelspec": {
   "display_name": ".venv",
   "language": "python",
   "name": "python3"
  },
  "language_info": {
   "codemirror_mode": {
    "name": "ipython",
    "version": 3
   },
   "file_extension": ".py",
   "mimetype": "text/x-python",
   "name": "python",
   "nbconvert_exporter": "python",
   "pygments_lexer": "ipython3",
   "version": "3.13.3"
  }
 },
 "nbformat": 4,
 "nbformat_minor": 5
}
