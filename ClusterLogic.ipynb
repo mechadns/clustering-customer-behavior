{
 "cells": [
  {
   "cell_type": "markdown",
   "id": "f8102268",
   "metadata": {},
   "source": [
    "# 1. Data Collection"
   ]
  },
  {
   "cell_type": "markdown",
   "id": "8019cd68",
   "metadata": {},
   "source": [
    "Extracting mall customer zip file from API download"
   ]
  },
  {
   "cell_type": "code",
   "execution_count": 7,
   "id": "4f6258a6",
   "metadata": {},
   "outputs": [],
   "source": [
    "import zipfile\n",
    "\n",
    "with zipfile.ZipFile(\"mall-customers.zip\", \"r\") as zip_ref:\n",
    "    zip_ref.extractall(\"mall_customers_data\")\n"
   ]
  },
  {
   "cell_type": "markdown",
   "id": "86b1b901",
   "metadata": {},
   "source": [
    "Loading the data into pandas"
   ]
  },
  {
   "cell_type": "code",
   "execution_count": 9,
   "id": "dc0f909a",
   "metadata": {},
   "outputs": [
    {
     "name": "stdout",
     "output_type": "stream",
     "text": [
      "   CustomerID   Genre  Age  Annual Income (k$)  Spending Score (1-100)\n",
      "0           1    Male   19                  15                      39\n",
      "1           2    Male   21                  15                      81\n",
      "2           3  Female   20                  16                       6\n",
      "3           4  Female   23                  16                      77\n",
      "4           5  Female   31                  17                      40\n"
     ]
    }
   ],
   "source": [
    "import pandas as pd\n",
    "\n",
    "# Load the dataset\n",
    "data = pd.read_csv(\"mall_customers_data/Mall_Customers.csv\")\n",
    "\n",
    "# Display the first few rows of the dataset\n",
    "print(data.head())\n"
   ]
  },
  {
   "cell_type": "markdown",
   "id": "ac89f653",
   "metadata": {},
   "source": [
    "# 2. Data Preprocessing\n",
    "Preprocess and clean data to handles missing values, nulls, ouliers and categorical variables."
   ]
  },
  {
   "cell_type": "code",
   "execution_count": 10,
   "id": "9940dca8",
   "metadata": {},
   "outputs": [
    {
     "name": "stdout",
     "output_type": "stream",
     "text": [
      "CustomerID                0\n",
      "Genre                     0\n",
      "Age                       0\n",
      "Annual Income (k$)        0\n",
      "Spending Score (1-100)    0\n",
      "dtype: int64\n",
      "              Age  Annual Income (k$)  Spending Score (1-100)\n",
      "count  200.000000          200.000000              200.000000\n",
      "mean    38.850000           60.560000               50.200000\n",
      "std     13.969007           26.264721               25.823522\n",
      "min     18.000000           15.000000                1.000000\n",
      "25%     28.750000           41.500000               34.750000\n",
      "50%     36.000000           61.500000               50.000000\n",
      "75%     49.000000           78.000000               73.000000\n",
      "max     70.000000          137.000000               99.000000\n"
     ]
    }
   ],
   "source": [
    "# Check for missing values\n",
    "print(data.isnull().sum())\n",
    "\n",
    "# Select relevant features for segmentation\n",
    "features = ['Age', 'Annual Income (k$)', 'Spending Score (1-100)']\n",
    "X = data[features]\n",
    "\n",
    "# Display the selected features\n",
    "print(X.describe())"
   ]
  },
  {
   "cell_type": "markdown",
   "id": "1dbc156f",
   "metadata": {},
   "source": [
    "# 4. Data Normalization\n",
    "Next, we’ll normalize the data to ensure all features are on the same scale. This is crucial for distance-based algorithms like K-means."
   ]
  },
  {
   "cell_type": "code",
   "execution_count": 11,
   "id": "8ad5bc22",
   "metadata": {},
   "outputs": [
    {
     "name": "stdout",
     "output_type": "stream",
     "text": [
      "[[-1.42456879 -1.73899919 -0.43480148]\n",
      " [-1.28103541 -1.73899919  1.19570407]\n",
      " [-1.3528021  -1.70082976 -1.71591298]\n",
      " [-1.13750203 -1.70082976  1.04041783]\n",
      " [-0.56336851 -1.66266033 -0.39597992]]\n"
     ]
    }
   ],
   "source": [
    "from sklearn.preprocessing import StandardScaler\n",
    "\n",
    "# Normalize data\n",
    "scaler = StandardScaler()\n",
    "X_scaled = scaler.fit_transform(X)\n",
    "\n",
    "# Display the scaled features\n",
    "print(X_scaled[:5])  # Show the first five rows of scaled data"
   ]
  }
 ],
 "metadata": {
  "kernelspec": {
   "display_name": ".venv",
   "language": "python",
   "name": "python3"
  },
  "language_info": {
   "codemirror_mode": {
    "name": "ipython",
    "version": 3
   },
   "file_extension": ".py",
   "mimetype": "text/x-python",
   "name": "python",
   "nbconvert_exporter": "python",
   "pygments_lexer": "ipython3",
   "version": "3.13.3"
  }
 },
 "nbformat": 4,
 "nbformat_minor": 5
}
